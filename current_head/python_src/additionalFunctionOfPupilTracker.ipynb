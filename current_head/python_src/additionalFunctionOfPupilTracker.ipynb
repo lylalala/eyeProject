{
 "cells": [
  {
   "cell_type": "code",
   "execution_count": null,
   "metadata": {},
   "outputs": [],
   "source": [
    "import cv2\n",
    "import numpy as np\n",
    "#import copy as cp"
   ]
  },
  {
   "cell_type": "code",
   "execution_count": null,
   "metadata": {},
   "outputs": [],
   "source": [
    "lIrisRadii = [];\n",
    "rIrisRadii = [];"
   ]
  },
  {
   "cell_type": "code",
   "execution_count": null,
   "metadata": {},
   "outputs": [],
   "source": [
    "def ConversionAndPlot(eyecenterInRect,IrisRadius,diff,DaugmanCenter,DaugmanRadius,EyeFiltered,leftEyeRectified,pt,leyefinalList,reyefinalList,allTrackedPointsList,frame):\n",
    "    leyecenterInRect=eyecenterInRect[0]\n",
    "    reyecenterInRect=eyecenterInRect[1]\n",
    "    lIrisRadius=IrisRadius[0]\n",
    "    rIrisRadius=IrisRadius[1]\n",
    "    diffLeft=diff[0]\n",
    "    diffRight=diff[1]\n",
    "    leftDaugmanCenter=DaugmanCenter[0]\n",
    "    rightDaugmanCenter=DaugmanCenter[1]\n",
    "    leftDaugmanRadius=DaugmanRadius[0]\n",
    "    rightDaugmanRadius=DaugmanRadius[1]\n",
    "    leftEyeFiltered=EyeFiltered[0]\n",
    "    rightEyeFiltered=EyeFiltered[1]\n",
    "                \n",
    "    lIrisRadii.append(lIrisRadius/leftEyeRectified.shape[1])\n",
    "    rIrisRadii.append(rIrisRadius/leftEyeRectified.shape[1])\n",
    "        \n",
    "    leyecenterInRectified = leyecenterInRect + pt.leftEyeRectTlPoint.transpose()\n",
    "    reyecenterInRectified = reyecenterInRect + pt.rightEyeRectTlPoint.transpose()\n",
    "        \n",
    "    if pt.isImageRectificationUsingHomoTransformation:\n",
    "        leyecenterfinal = cv2.perspectiveTransform(leyecenterInRectified[None,:,:],pt.rectifyTransformationInv)\n",
    "        reyecenterfinal = cv2.perspectiveTransform(reyecenterInRectified[None,:,:],pt.rectifyTransformationInv)\n",
    "    else:\n",
    "        leyecenterInRectified[0][0] = frame.shape[1] - leyecenterInRectified[0][0]\n",
    "        reyecenterInRectified[0][0] = frame.shape[1] - reyecenterInRectified[0][0]\n",
    "        leyecenterfinal = cv2.transform(leyecenterInRectified[None,:,:],pt.rectifyTransformationInv)\n",
    "        reyecenterfinal = cv2.transform(reyecenterInRectified[None,:,:],pt.rectifyTransformationInv)            \n",
    "            \n",
    "    leyefinalList.append(leyecenterfinal)\n",
    "    reyefinalList.append(reyecenterfinal)\n",
    "    allTrackedPointsList.append(pt.allTrackedPoints2D)\n",
    "    for p in pt.allTrackedPoints2D:\n",
    "        cv2.circle(frame,tuple(p),1,(255,255,255))\n",
    "    for p in pt.selectedTrackedPoints2D:\n",
    "        cv2.circle(frame,tuple(p),1,(0,255,0))\n",
    "    cv2.circle(frame,tuple(np.int32(np.squeeze(leyecenterfinal))),1,(0,0,255))\n",
    "    cv2.circle(frame,tuple(np.int32(np.squeeze(leyecenterfinal))),np.int32(lIrisRadius),(0,0,255))\n",
    "    cv2.circle(frame,tuple(np.int32(np.squeeze(reyecenterfinal))),1,(0,0,255))\n",
    "    cv2.circle(frame,tuple(np.int32(np.squeeze(reyecenterfinal))),np.int32(rIrisRadius),(0,0,255))\n",
    "    return frame,leyefinalList,reyefinalList,allTrackedPointsList"
   ]
  }
 ],
 "metadata": {
  "kernelspec": {
   "display_name": "Python 2",
   "language": "python",
   "name": "python2"
  },
  "language_info": {
   "codemirror_mode": {
    "name": "ipython",
    "version": 2.0
   },
   "file_extension": ".py",
   "mimetype": "text/x-python",
   "name": "python",
   "nbconvert_exporter": "python",
   "pygments_lexer": "ipython2",
   "version": "2.7.10"
  }
 },
 "nbformat": 4,
 "nbformat_minor": 0
}