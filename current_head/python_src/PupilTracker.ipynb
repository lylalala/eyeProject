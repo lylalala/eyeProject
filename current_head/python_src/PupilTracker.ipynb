{
 "cells": [
  {
   "cell_type": "code",
   "execution_count": null,
   "metadata": {
    "collapsed": false,
    "scrolled": true
   },
   "outputs": [],
   "source": [
    "\n",
    "import sys\n",
    "reload(sys)\n",
    "sys.setdefaultencoding(\"utf-8\")\n",
    "sys.path.append('../lib/')\n",
    "import ImportNotebook\n",
    "%matplotlib inline\n",
    "\n",
    "import numpy as np\n",
    "import numpy.matrixlib\n",
    "import cv2\n",
    "import time\n",
    "import asmgazetracker\n",
    "import matplotlib.pyplot as plt\n",
    "\n",
    "import DaugmanIrisLocator as pcl"
   ]
  },
  {
   "cell_type": "code",
   "execution_count": null,
   "metadata": {
    "collapsed": false
   },
   "outputs": [],
   "source": [
    "t = time.time()\n",
    "print '开始生成模板时间=%f\\n'%(t)\n",
    "pcl.generateTemplateSet()\n",
    "t = time.time()\n",
    "print '模板完成时间=%f\\n'%(t)\n",
    "pcl.irisRange"
   ]
  },
  {
   "cell_type": "code",
   "execution_count": null,
   "metadata": {
    "collapsed": false
   },
   "outputs": [],
   "source": [
    "userProfilePath = '/Users/ly/eyeProject/current_head/test/user_profile/liuyang/trackermodel.yaml'\n",
    "# backgroundUserProfilePath = '/Users/Jiangzp/trackingdata/user_profile/jzp214/trackermodel.yaml'\n",
    "cameraProfilePath = '/Users/ly/eyeProject/current_head/test/camera_calibration/iSight/CM_iSight.yaml'"
   ]
  },
  {
   "cell_type": "code",
   "execution_count": null,
   "metadata": {
    "collapsed": false
   },
   "outputs": [],
   "source": [
    "pt = asmgazetracker.ASM_Gaze_Tracker()\n",
    "pt.initialize(userProfilePath,cameraProfilePath)\n",
    "# pt.feedBackgroundTracker(backgroundUserProfilePath)\n",
    "pt.isImageRectificationUsingHomoTransformation = 0\n",
    "pt.poseEstimationUsingRansac = 0\n",
    "pt.poseEstimationRobustTracker = 0"
   ]
  },
  {
   "cell_type": "code",
   "execution_count": null,
   "metadata": {
    "collapsed": false,
    "scrolled": true
   },
   "outputs": [],
   "source": [
    "leyefinalList = [];\n",
    "reyefinalList = [];\n",
    "lIrisRadii = [];\n",
    "rIrisRadii = [];\n",
    "plt.ion()\n",
    "\n",
    "# leftDiffImage = plt.figure('leftDiffImage')\n",
    "# leftDiffImage.add_subplot(1,1,1).imshow(np.zeros((5,5)))\n",
    "# leftDiffImage.canvas.draw()\n",
    "\n",
    "# rightDiffImage = plt.figure('rightDiffImage')\n",
    "# rightDiffImage.add_subplot(1,1,1).imshow(np.zeros((5,5)))\n",
    "# rightDiffImage.canvas.draw()\n",
    "\n",
    "allTrackedPointsList = [];\n",
    "\n",
    "t = time.time()\n",
    "print '打开摄像头时间=%f\\n'%(t)\n",
    "# cv2.startWindowThread()\n",
    "cap = cv2.VideoCapture(0)\n",
    "frameCount = 0\n",
    "#pcl.generateTemplateSet()\n",
    "#while(True):\n",
    "while(frameCount < 21):\n",
    "    \n",
    "    print '-' *50\n",
    "    print \"count=%d\\n\"%frameCount\n",
    "    t = time.time()\n",
    "    print t\n",
    "    frameCount +=1\n",
    "    #读取视频帧\n",
    "    ret, frame = cap.read()\n",
    "#     frame = cv2.medianBlur(frame,3)\n",
    "    #基于特征跟踪类？什么原理\n",
    "    succecced = pt.featureTracking(frame)\n",
    "    if succecced:\n",
    "        pt.estimateFacePose()\n",
    "        pt.extractEyeRectifiedImages()\n",
    "#        cv2.imshow('left',pt.rightEyeImageRectified)\n",
    "#        cv2.imshow('right',pt.leftEyeImageRectified)\n",
    "        #python的RGB和opencv的RGB通道是反的\n",
    "        leftEyeRectified = cv2.cvtColor(pt.leftEyeImageRectified,cv2.COLOR_BGR2RGB)\n",
    "        rightEyeRectified = cv2.cvtColor(pt.rightEyeImageRectified,cv2.COLOR_BGR2RGB)\n",
    "#        cv2.imshow('test',rightEyeRectified)\n",
    "        rectifiedImage = cv2.cvtColor(pt.rectifiedImage,cv2.COLOR_BGR2RGB)\n",
    "        #\n",
    "        if frameCount == 20:\n",
    "            pcl.regulateIrisRange()\n",
    "            print 'regulated'\n",
    "            print pcl.irisRange\n",
    "        \n",
    "        #eyecenterInRect是在rect中黑眼仁的圆心\n",
    "        #IrisRadius是黑眼仁的半径\n",
    "        #先处理左眼，后处理右眼\n",
    "        leyecenterInRect,lIrisRadius,diffLeft,leftDaugmanCenter,leftDaugmanRadius,leftEyeFiltered = pcl.DaugmanIrisLocalization(leftEyeRectified)\n",
    "        reyecenterInRect,rIrisRadius,diffRight,rightDaugmanCenter,rightDaugmanRadius,rightEyeFiltered = pcl.DaugmanIrisLocalization(rightEyeRectified)\n",
    "\n",
    "#        if frameCount%2 == 0:\n",
    "#            print '偶数，处理左眼，右眼用左眼的模板'\n",
    "#            leyecenterInRect,lIrisRadius,diffLeft,leftDaugmanCenter,leftDaugmanRadius,leftEyeFiltered = pcl.DaugmanIrisLocalization(leftEyeRectified)\n",
    "#            reyecenterInRect,rIrisRadius,diffRight,rightDaugmanCenter,rightDaugmanRadius,rightEyeFiltered = pcl.DaugmanIrisLocalizationAnothor(rightEyeRectified)\n",
    "#        else:\n",
    "#            print '奇数，处理右眼，左眼用右眼的模板'\n",
    "#            reyecenterInRect,rIrisRadius,diffRight,rightDaugmanCenter,rightDaugmanRadius,rightEyeFiltered = pcl.DaugmanIrisLocalization(rightEyeRectified)\n",
    "#            leyecenterInRect,lIrisRadius,diffLeft,leftDaugmanCenter,leftDaugmanRadius,leftEyeFiltered = pcl.DaugmanIrisLocalizationAnothor(leftEyeRectified)\n",
    "\n",
    "        \n",
    "        \n",
    "        #         diffRight /= (diffRight.max()/255.0)\n",
    "#         diffRight = cv2.applyColorMap(diffRight,cv2.COLORMAP_JET)\n",
    "#         cv2.imshow('diffRight',diffRight)\n",
    "#         leftDiffImage.axes[0].clear()\n",
    "#         leftDiffImage.axes[0].imshow(diffLeft)\n",
    "#         leftDiffImage.canvas.draw()\n",
    "        \n",
    "#         rightDiffImage.axes[0].clear()\n",
    "#         rightDiffImage.axes[0].imshow(diffRight)\n",
    "#         rightDiffImage.canvas.draw()\n",
    "        \n",
    "#         leftEyeFiltered = cv2.cvtColor(leftEyeFiltered,cv2.COLOR_RGB2BGR)\n",
    "#         rightEyeFiltered = cv2.cvtColor(rightEyeFiltered,cv2.COLOR_RGB2BGR)\n",
    "        lIrisRadii.append(lIrisRadius/leftEyeRectified.shape[1])\n",
    "        rIrisRadii.append(rIrisRadius/leftEyeRectified.shape[1])\n",
    "#         cv2.circle(leftEyeFiltered,tuple(np.int32(np.squeeze(leftDaugmanCenter))),int(leftDaugmanRadius),(0,0,255))\n",
    "#         cv2.circle(rightEyeFiltered,tuple(np.int32(np.squeeze(rightDaugmanCenter))),int(rightDaugmanRadius),(0,0,255))\n",
    "#         cv2.imshow('lefteye',leftEyeFiltered)\n",
    "#         cv2.imshow('righteye',rightEyeFiltered)\n",
    "        \n",
    "        leyecenterInRectified = leyecenterInRect + pt.leftEyeRectTlPoint.transpose()\n",
    "        reyecenterInRectified = reyecenterInRect + pt.rightEyeRectTlPoint.transpose()\n",
    "        \n",
    "        if pt.isImageRectificationUsingHomoTransformation:\n",
    "            #透视变换，为了？\n",
    "            leyecenterfinal = cv2.perspectiveTransform(leyecenterInRectified[None,:,:],pt.rectifyTransformationInv)\n",
    "            reyecenterfinal = cv2.perspectiveTransform(reyecenterInRectified[None,:,:],pt.rectifyTransformationInv)\n",
    "        else:\n",
    "            leyecenterInRectified[0][0] = frame.shape[1] - leyecenterInRectified[0][0]\n",
    "            reyecenterInRectified[0][0] = frame.shape[1] - reyecenterInRectified[0][0]\n",
    "            leyecenterfinal = cv2.transform(leyecenterInRectified[None,:,:],pt.rectifyTransformationInv)\n",
    "            reyecenterfinal = cv2.transform(reyecenterInRectified[None,:,:],pt.rectifyTransformationInv)            \n",
    "            \n",
    "        leyefinalList.append(leyecenterfinal)\n",
    "        reyefinalList.append(reyecenterfinal)\n",
    "        allTrackedPointsList.append(pt.allTrackedPoints2D)\n",
    "        #cv2.circle(图像，圆心，半径，颜色)\n",
    "        for p in pt.allTrackedPoints2D:\n",
    "            cv2.circle(frame,tuple(p),1,(255,255,255))\n",
    "        for p in pt.selectedTrackedPoints2D:\n",
    "            cv2.circle(frame,tuple(p),1,(0,255,0))\n",
    "        #print '-' *40\n",
    "        #print 'leyecenterfinal'\n",
    "        #print leyecenterfinal\n",
    "        #print 'tuple(np.int32(np.squeeze(leyecenterfinal)))'\n",
    "        #print leyecenterfinal\n",
    "        #print np.squeeze(leyecenterfinal)\n",
    "        #print np.int32(np.squeeze(leyecenterfinal))\n",
    "        #print tuple(np.int32(np.squeeze(leyecenterfinal)))\n",
    "        cv2.circle(frame,tuple(np.int32(np.squeeze(leyecenterfinal))),1,(0,0,255))\n",
    "        cv2.circle(frame,tuple(np.int32(np.squeeze(leyecenterfinal))),np.int32(lIrisRadius),(0,0,255))\n",
    "        cv2.circle(frame,tuple(np.int32(np.squeeze(reyecenterfinal))),1,(0,0,255))\n",
    "        cv2.circle(frame,tuple(np.int32(np.squeeze(reyecenterfinal))),np.int32(rIrisRadius),(0,0,255))\n",
    "    cv2.imshow('frame',frame)\n",
    "    \n",
    "    keyValue = cv2.waitKey(1) & 0xFF \n",
    "    if keyValue == ord('q'):\n",
    "        del(cap)\n",
    "        cv2.destroyAllWindows()\n",
    "        break\n",
    "    elif keyValue == ord('d'):\n",
    "        pt.reDetectFace()\n"
   ]
  },
  {
   "cell_type": "code",
   "execution_count": null,
   "metadata": {
    "collapsed": false,
    "scrolled": false
   },
   "outputs": [],
   "source": [
    "# %matplotlib inline\n",
    "leyefinalArray = np.concatenate(leyefinalList).squeeze()\n",
    "reyefinalArray = np.concatenate(reyefinalList).squeeze()\n",
    "allTrackedPointsArray = np.concatenate(allTrackedPointsList,2)\n",
    "plt.figure(0)\n",
    "for i in range(1):\n",
    "    plt.scatter(allTrackedPointsArray[i,0,:],allTrackedPointsArray[i,1,:],5,range(0,allTrackedPointsArray.shape[2]))\n",
    "# plt.figure(1)\n",
    "# plt.scatter(leyefinalArray[:,0],leyefinalArray[:,1],20,range(0,leyefinalArray.shape[0]))\n",
    "# plt.scatter(reyefinalArray[:,0],reyefinalArray[:,1],20,range(0,reyefinalArray.shape[0]))\n",
    "# plt.show()"
   ]
  },
  {
   "cell_type": "code",
   "execution_count": null,
   "metadata": {
    "collapsed": false,
    "scrolled": true
   },
   "outputs": [],
   "source": [
    "cIL = pt.stringIndexToIntIndex('canthusInnerLeft')\n",
    "cIR = pt.stringIndexToIntIndex('canthusInnerRight')\n",
    "cOL = pt.stringIndexToIntIndex('canthusOuterLeft')\n",
    "cOR = pt.stringIndexToIntIndex('canthusOuterRight')\n",
    "cILArray = allTrackedPointsArray[cIL,:,:]\n",
    "cIRArray = allTrackedPointsArray[cIR,:,:]\n",
    "cOLArray = allTrackedPointsArray[cOL,:,:]\n",
    "cORArray = allTrackedPointsArray[cOR,:,:]\n",
    "mid = (cILArray + cIRArray + cOLArray + cORArray)/4\n",
    "leyeWRT = leyefinalArray - mid.transpose()\n",
    "reyeWRT = reyefinalArray - mid.transpose()\n",
    "plt.figure('wrt')\n",
    "plt.scatter(leyeWRT[:,0],leyeWRT[:,1],20,range(0,leyeWRT.shape[0]))\n",
    "plt.figure('mid')\n",
    "plt.scatter(leyeWRT[:,0],leyeWRT[:,1],20,range(0,leyeWRT.shape[0]))\n",
    "plt.scatter(mid[:,0],mid[:,1],20,range(0,mid.shape[0]))\n",
    "plt.show('wrt')\n",
    "plt.show('mid')\n"
   ]
  },
  {
   "cell_type": "code",
   "execution_count": null,
   "metadata": {
    "collapsed": false
   },
   "outputs": [],
   "source": [
    "pcl.irisRange"
   ]
  },
  {
   "cell_type": "code",
   "execution_count": null,
   "metadata": {
    "collapsed": false
   },
   "outputs": [],
   "source": []
  },
  {
   "cell_type": "code",
   "execution_count": null,
   "metadata": {
    "collapsed": false
   },
   "outputs": [],
   "source": []
  },
  {
   "cell_type": "code",
   "execution_count": null,
   "metadata": {
    "collapsed": false
   },
   "outputs": [],
   "source": []
  },
  {
   "cell_type": "code",
   "execution_count": null,
   "metadata": {
    "collapsed": false
   },
   "outputs": [],
   "source": []
  },
  {
   "cell_type": "code",
   "execution_count": null,
   "metadata": {
    "collapsed": false
   },
   "outputs": [],
   "source": []
  },
  {
   "cell_type": "code",
   "execution_count": null,
   "metadata": {
    "collapsed": false
   },
   "outputs": [],
   "source": []
  },
  {
   "cell_type": "code",
   "execution_count": null,
   "metadata": {
    "collapsed": false
   },
   "outputs": [],
   "source": []
  },
  {
   "cell_type": "code",
   "execution_count": null,
   "metadata": {
    "collapsed": false
   },
   "outputs": [],
   "source": []
  },
  {
   "cell_type": "code",
   "execution_count": null,
   "metadata": {
    "collapsed": true
   },
   "outputs": [],
   "source": []
  },
  {
   "cell_type": "code",
   "execution_count": null,
   "metadata": {
    "collapsed": false
   },
   "outputs": [],
   "source": []
  },
  {
   "cell_type": "code",
   "execution_count": null,
   "metadata": {
    "collapsed": true
   },
   "outputs": [],
   "source": []
  }
 ],
 "metadata": {
  "kernelspec": {
   "display_name": "Python 2",
   "language": "python",
   "name": "python2"
  },
  "language_info": {
   "codemirror_mode": {
    "name": "ipython",
    "version": 2
   },
   "file_extension": ".py",
   "mimetype": "text/x-python",
   "name": "python",
   "nbconvert_exporter": "python",
   "pygments_lexer": "ipython2",
   "version": "2.7.10"
  }
 },
 "nbformat": 4,
 "nbformat_minor": 0
}
