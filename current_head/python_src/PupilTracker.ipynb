{
 "cells": [
  {
   "cell_type": "code",
   "execution_count": 1,
   "metadata": {
    "collapsed": false,
    "scrolled": true
   },
   "outputs": [],
   "source": [
    "import sys\n",
    "reload(sys)\n",
    "sys.setdefaultencoding(\"utf-8\")\n",
    "sys.path.append('../lib/')\n",
    "import ImportNotebook\n",
    "%matplotlib inline\n",
    "import numpy as np\n",
    "import numpy.matrixlib\n",
    "import cv2\n",
    "import time\n",
    "import asmgazetracker\n",
    "import matplotlib.pyplot as plt\n",
    "import DaugmanIrisLocator as pcl\n",
    "import copy as cp"
   ]
  },
  {
   "cell_type": "code",
   "execution_count": 2,
   "metadata": {
    "collapsed": false
   },
   "outputs": [],
   "source": [
    "t = time.time()\n",
    "print '开始生成模板时间=%f\\n'%(t)\n",
    "pcl.generateTemplateSet()#生成原模板\n",
    "pcl.generateTemplateSet2()#生成新模板\n",
    "t = time.time()\n",
    "print '模板完成时间=%f\\n'%(t)\n",
    "pcl.irisRange\n",
    "userProfilePath = '/Users/ly/eyeProject/current_head/test/user_profile/liuyang/trackermodel.yaml'\n",
    "# backgroundUserProfilePath = '/Users/Jiangzp/trackingdata/user_profile/jzp214/trackermodel.yaml'\n",
    "cameraProfilePath = '/Users/ly/eyeProject/current_head/test/camera_calibration/iSight/CM_iSight.yaml'\n",
    "pt = asmgazetracker.ASM_Gaze_Tracker()\n",
    "pt.initialize(userProfilePath,cameraProfilePath)\n",
    "# pt.feedBackgroundTracker(backgroundUserProfilePath)\n",
    "pt.isImageRectificationUsingHomoTransformation = 0\n",
    "pt.poseEstimationUsingRansac = 0\n",
    "pt.poseEstimationRobustTracker = 0\n",
    "leyefinalList = [];\n",
    "reyefinalList = [];\n",
    "lIrisRadii = [];\n",
    "rIrisRadii = [];\n",
    "plt.ion()\n",
    "allTrackedPointsList = [];\n",
    "#global topLeftShelterRate,bottomLeftShelterRate,topRightShelterRate,bottomRightShelterRate\n",
    "#topLeftShelterRate=[]\n",
    "#bottomLeftShelterRate=[]\n",
    "#topRightShelterRate=[]\n",
    "#bottomRightShelterRate=[]\n",
    "radiusLeft=0\n",
    "radiusRight=0"
   ]
  },
  {
   "cell_type": "code",
   "execution_count": 3,
   "metadata": {
    "collapsed": false,
    "scrolled": true
   },
   "outputs": [],
   "source": [
    "t = time.time()\n",
    "print '打开摄像头时间=%f\\n'%(t)\n",
    "# cv2.startWindowThread()\n",
    "cap = cv2.VideoCapture(0)\n",
    "frameCount = 0\n",
    "#while(True):\n",
    "while(frameCount < 41):\n",
    "    print '-' *50\n",
    "    print \"count=%d\\n\"%frameCount\n",
    "    t = time.time()\n",
    "    frameCount +=1\n",
    "    #读取视频帧\n",
    "    ret, frame = cap.read()\n",
    "#     frame = cv2.medianBlur(frame,3)\n",
    "    #基于特征跟踪类？什么原理\n",
    "    succecced = pt.featureTracking(frame)\n",
    "    if succecced:\n",
    "        pt.estimateFacePose()\n",
    "        pt.extractEyeRectifiedImages()\n",
    "        #python的RGB和opencv的RGB通道是反的\n",
    "        leftEyeRectified = cv2.cvtColor(pt.leftEyeImageRectified,cv2.COLOR_BGR2RGB)\n",
    "        #cv2.imshow('pt.leftEyeImageRectified',pt.leftEyeImageRectified)\n",
    "        rightEyeRectified = cv2.cvtColor(pt.rightEyeImageRectified,cv2.COLOR_BGR2RGB)\n",
    "        rectifiedImage = cv2.cvtColor(pt.rectifiedImage,cv2.COLOR_BGR2RGB)\n",
    "        \n",
    "        #到20帧的时候改变模板，新旧模板都被更改\n",
    "        if frameCount == 30:\n",
    "            pcl.regulateIrisRange()\n",
    "            print 'regulated'\n",
    "            print pcl.irisRange\n",
    "        #需要根据本帧的图片，圆心，半径来得到上下比例\n",
    "        #图片是leftEyeRectified,rightEyeRectified,圆心是leyecenterInRect，reyecenterInRect，半径lIrisRadius，rIrisRadius\n",
    "        if frameCount < 40:#使用原方法\n",
    "            leyecenterInRect,lIrisRadius,diffLeft,leftDaugmanCenter,leftDaugmanRadius,leftEyeFiltered = pcl.DaugmanIrisLocalization(leftEyeRectified,frameCount,1)\n",
    "            reyecenterInRect,rIrisRadius,diffRight,rightDaugmanCenter,rightDaugmanRadius,rightEyeFiltered = pcl.DaugmanIrisLocalization(rightEyeRectified,frameCount,2)\n",
    "        else:\n",
    "            if frameCount%10==0:#每10帧使用原模板\n",
    "                leyecenterInRect,lIrisRadius,diffLeft,leftDaugmanCenter,leftDaugmanRadius,leftEyeFiltered,topLeftShelterRate,bottomLeftShelterRate = pcl.DaugmanIrisLocalization1(leftEyeRectified)\n",
    "                radiusLeft=cp.deepcopy(lIrisRadius)#深拷贝半径信息\n",
    "                leftEyeInfo=[]#将半径，上遮挡比例，下遮挡比例放入Info中\n",
    "                leftEyeInfo.append(radiusLeft)\n",
    "                leftEyeInfo.append(topLeftShelterRate)\n",
    "                leftEyeInfo.append(bottomLeftShelterRate)\n",
    "                reyecenterInRect,rIrisRadius,diffRight,rightDaugmanCenter,rightDaugmanRadius,rightEyeFiltered,topRightShelterRate,bottomRightShelterRate = pcl.DaugmanIrisLocalization1(rightEyeRectified)\n",
    "                radiusRight=cp.deepcopy(rIrisRadius)\n",
    "                rightEyeInfo=[]\n",
    "                rightEyeInfo.append(radiusRight)\n",
    "                rightEyeInfo.append(topRightShelterRate)\n",
    "                rightEyeInfo.append(bottomRightShelterRate)\n",
    "                print leftEyeInfo\n",
    "                print rightEyeInfo\n",
    "            else:#其余使用新的模板\n",
    "                leyecenterInRect,lIrisRadius,diffLeft,leftDaugmanCenter,leftDaugmanRadius,leftEyeFiltered,topLeftShelterRate,bottomLeftShelterRate = pcl.DaugmanIrisLocalization2(leftEyeRectified,leftEyeInfo)\n",
    "                radiusLeft=cp.deepcopy(lIrisRadius)\n",
    "                leftEyeInfo=[]\n",
    "                leftEyeInfo.append(radiusLeft)\n",
    "                leftEyeInfo.append(topLeftShelterRate)\n",
    "                leftEyeInfo.append(bottomLeftShelterRate)\n",
    "                reyecenterInRect,rIrisRadius,diffRight,rightDaugmanCenter,rightDaugmanRadius,rightEyeFiltered,topRightShelterRate,bottomRightShelterRate = pcl.DaugmanIrisLocalization2(rightEyeRectified,rightEyeInfo)\n",
    "                radiusRight=cp.deepcopy(rIrisRadius)\n",
    "                rightEyeInfo=[]\n",
    "                rightEyeInfo.append(radiusRight)\n",
    "                rightEyeInfo.append(topRightShelterRate)\n",
    "                rightEyeInfo.append(bottomRightShelterRate)\n",
    "\n",
    "        #leyecenterInRect,lIrisRadius,diffLeft,leftDaugmanCenter,leftDaugmanRadius,leftEyeFiltered = pcl.DaugmanIrisLocalization(leftEyeRectified,frameCount,1)\n",
    "        #reyecenterInRect,rIrisRadius,diffRight,rightDaugmanCenter,rightDaugmanRadius,rightEyeFiltered = pcl.DaugmanIrisLocalization(rightEyeRectified,frameCount,2)\n",
    "        \n",
    "                \n",
    "                \n",
    "        lIrisRadii.append(lIrisRadius/leftEyeRectified.shape[1])\n",
    "        rIrisRadii.append(rIrisRadius/leftEyeRectified.shape[1])\n",
    "#         cv2.circle(leftEyeFiltered,tuple(np.int32(np.squeeze(leftDaugmanCenter))),int(leftDaugmanRadius),(0,0,255))\n",
    "#         cv2.circle(rightEyeFiltered,tuple(np.int32(np.squeeze(rightDaugmanCenter))),int(rightDaugmanRadius),(0,0,255))\n",
    "#         cv2.imshow('lefteye',leftEyeFiltered)\n",
    "#         cv2.imshow('righteye',rightEyeFiltered)\n",
    "        \n",
    "        leyecenterInRectified = leyecenterInRect + pt.leftEyeRectTlPoint.transpose()\n",
    "        reyecenterInRectified = reyecenterInRect + pt.rightEyeRectTlPoint.transpose()\n",
    "        \n",
    "        if pt.isImageRectificationUsingHomoTransformation:\n",
    "            leyecenterfinal = cv2.perspectiveTransform(leyecenterInRectified[None,:,:],pt.rectifyTransformationInv)\n",
    "            reyecenterfinal = cv2.perspectiveTransform(reyecenterInRectified[None,:,:],pt.rectifyTransformationInv)\n",
    "        else:\n",
    "            leyecenterInRectified[0][0] = frame.shape[1] - leyecenterInRectified[0][0]\n",
    "            reyecenterInRectified[0][0] = frame.shape[1] - reyecenterInRectified[0][0]\n",
    "            leyecenterfinal = cv2.transform(leyecenterInRectified[None,:,:],pt.rectifyTransformationInv)\n",
    "            reyecenterfinal = cv2.transform(reyecenterInRectified[None,:,:],pt.rectifyTransformationInv)            \n",
    "            \n",
    "        leyefinalList.append(leyecenterfinal)\n",
    "        reyefinalList.append(reyecenterfinal)\n",
    "        allTrackedPointsList.append(pt.allTrackedPoints2D)\n",
    "        #cv2.circle(图像，圆心，半径，颜色)\n",
    "        for p in pt.allTrackedPoints2D:\n",
    "            cv2.circle(frame,tuple(p),1,(255,255,255))\n",
    "        for p in pt.selectedTrackedPoints2D:\n",
    "            cv2.circle(frame,tuple(p),1,(0,255,0))\n",
    "        #print '-' *40\n",
    "        #print 'leyecenterfinal'\n",
    "        #print leyecenterfinal\n",
    "        #print 'tuple(np.int32(np.squeeze(leyecenterfinal)))'\n",
    "        #print leyecenterfinal\n",
    "        #print np.squeeze(leyecenterfinal)\n",
    "        #print np.int32(np.squeeze(leyecenterfinal))\n",
    "        #print tuple(np.int32(np.squeeze(leyecenterfinal)))\n",
    "        cv2.circle(frame,tuple(np.int32(np.squeeze(leyecenterfinal))),1,(0,0,255))\n",
    "        cv2.circle(frame,tuple(np.int32(np.squeeze(leyecenterfinal))),np.int32(lIrisRadius),(0,0,255))\n",
    "        cv2.circle(frame,tuple(np.int32(np.squeeze(reyecenterfinal))),1,(0,0,255))\n",
    "        cv2.circle(frame,tuple(np.int32(np.squeeze(reyecenterfinal))),np.int32(rIrisRadius),(0,0,255))\n",
    "    cv2.imshow('frame',frame)\n",
    "    \n",
    "    keyValue = cv2.waitKey(1) & 0xFF \n",
    "    if keyValue == ord('q'):\n",
    "        del(cap)\n",
    "        cv2.destroyAllWindows()\n",
    "        break\n",
    "    elif keyValue == ord('d'):\n",
    "        pt.reDetectFace()\n"
   ]
  },
  {
   "cell_type": "code",
   "execution_count": 4,
   "metadata": {
    "collapsed": false,
    "scrolled": false
   },
   "outputs": [
    {
     "data": {
      "image/png": "[encoded data removed]",
      "text/plain": [
       "<matplotlib.figure.Figure at 0x110092290>"
      ]
     },
     "metadata": {},
     "output_type": "display_data"
    }
   ],
   "source": [
    "# %matplotlib inline\n",
    "leyefinalArray = np.concatenate(leyefinalList).squeeze()\n",
    "reyefinalArray = np.concatenate(reyefinalList).squeeze()\n",
    "allTrackedPointsArray = np.concatenate(allTrackedPointsList,2)\n",
    "plt.figure(0)\n",
    "for i in range(1):\n",
    "    plt.scatter(allTrackedPointsArray[i,0,:],allTrackedPointsArray[i,1,:],5,range(0,allTrackedPointsArray.shape[2]))\n",
    "# plt.figure(1)\n",
    "# plt.scatter(leyefinalArray[:,0],leyefinalArray[:,1],20,range(0,leyefinalArray.shape[0]))\n",
    "# plt.scatter(reyefinalArray[:,0],reyefinalArray[:,1],20,range(0,reyefinalArray.shape[0]))\n",
    "# plt.show()"
   ]
  },
  {
   "cell_type": "code",
   "execution_count": 5,
   "metadata": {
    "collapsed": false,
    "scrolled": true
   },
   "outputs": [
    {
     "data": {
      "image/png": "[encoded data removed]",
      "text/plain": [
       "<matplotlib.figure.Figure at 0x10f18e2d0>"
      ]
     },
     "metadata": {},
     "output_type": "display_data"
    },
    {
     "data": {
      "image/png": "[encoded data removed]",
      "text/plain": [
       "<matplotlib.figure.Figure at 0x11c752e90>"
      ]
     },
     "metadata": {},
     "output_type": "display_data"
    }
   ],
   "source": [
    "cIL = pt.stringIndexToIntIndex('canthusInnerLeft')\n",
    "cIR = pt.stringIndexToIntIndex('canthusInnerRight')\n",
    "cOL = pt.stringIndexToIntIndex('canthusOuterLeft')\n",
    "cOR = pt.stringIndexToIntIndex('canthusOuterRight')\n",
    "cILArray = allTrackedPointsArray[cIL,:,:]\n",
    "cIRArray = allTrackedPointsArray[cIR,:,:]\n",
    "cOLArray = allTrackedPointsArray[cOL,:,:]\n",
    "cORArray = allTrackedPointsArray[cOR,:,:]\n",
    "mid = (cILArray + cIRArray + cOLArray + cORArray)/4\n",
    "leyeWRT = leyefinalArray - mid.transpose()\n",
    "reyeWRT = reyefinalArray - mid.transpose()\n",
    "plt.figure('wrt')\n",
    "plt.scatter(leyeWRT[:,0],leyeWRT[:,1],20,range(0,leyeWRT.shape[0]))\n",
    "plt.figure('mid')\n",
    "plt.scatter(leyeWRT[:,0],leyeWRT[:,1],20,range(0,leyeWRT.shape[0]))\n",
    "plt.scatter(mid[:,0],mid[:,1],20,range(0,mid.shape[0]))\n",
    "plt.show('wrt')\n",
    "plt.show('mid')\n"
   ]
  },
  {
   "cell_type": "code",
   "execution_count": 6,
   "metadata": {
    "collapsed": false
   },
   "outputs": [
    {
     "data": {
      "text/plain": [
       "array([ 27.,  28.,  29.,  30.,  31.,  32.,  33.,  34.,  35.])"
      ]
     },
     "execution_count": 6,
     "metadata": {},
     "output_type": "execute_result"
    }
   ],
   "source": [
    "pcl.irisRange"
   ]
  },
  {
   "cell_type": "code",
   "execution_count": null,
   "metadata": {
    "collapsed": false
   },
   "outputs": [],
   "source": []
  },
  {
   "cell_type": "code",
   "execution_count": null,
   "metadata": {
    "collapsed": false
   },
   "outputs": [],
   "source": []
  },
  {
   "cell_type": "code",
   "execution_count": null,
   "metadata": {
    "collapsed": false
   },
   "outputs": [],
   "source": []
  },
  {
   "cell_type": "code",
   "execution_count": null,
   "metadata": {
    "collapsed": false
   },
   "outputs": [],
   "source": []
  },
  {
   "cell_type": "code",
   "execution_count": null,
   "metadata": {
    "collapsed": false
   },
   "outputs": [],
   "source": []
  },
  {
   "cell_type": "code",
   "execution_count": null,
   "metadata": {
    "collapsed": false
   },
   "outputs": [],
   "source": []
  },
  {
   "cell_type": "code",
   "execution_count": null,
   "metadata": {
    "collapsed": false
   },
   "outputs": [],
   "source": []
  },
  {
   "cell_type": "code",
   "execution_count": null,
   "metadata": {
    "collapsed": false
   },
   "outputs": [],
   "source": []
  },
  {
   "cell_type": "code",
   "execution_count": null,
   "metadata": {
    "collapsed": true
   },
   "outputs": [],
   "source": []
  },
  {
   "cell_type": "code",
   "execution_count": null,
   "metadata": {
    "collapsed": false
   },
   "outputs": [],
   "source": []
  },
  {
   "cell_type": "code",
   "execution_count": null,
   "metadata": {
    "collapsed": true
   },
   "outputs": [],
   "source": []
  }
 ],
 "metadata": {
  "kernelspec": {
   "display_name": "Python 2",
   "language": "python",
   "name": "python2"
  },
  "language_info": {
   "codemirror_mode": {
    "name": "ipython",
    "version": 2
   },
   "file_extension": ".py",
   "mimetype": "text/x-python",
   "name": "python",
   "nbconvert_exporter": "python",
   "pygments_lexer": "ipython2",
   "version": "2.7.10"
  }
 },
 "nbformat": 4,
 "nbformat_minor": 0
}
