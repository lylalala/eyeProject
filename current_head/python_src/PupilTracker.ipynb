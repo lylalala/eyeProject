{
 "cells": [
  {
   "cell_type": "code",
   "execution_count": null,
   "metadata": {
    "collapsed": false
   },
   "outputs": [],
   "source": [
    "import sys\n",
    "reload(sys)\n",
    "sys.setdefaultencoding(\"utf-8\")\n",
    "sys.path.append('../lib/')\n",
    "import ImportNotebook\n",
    "%matplotlib inline\n",
    "import numpy as np\n",
    "import numpy.matrixlib\n",
    "import cv2\n",
    "import time\n",
    "import asmgazetracker\n",
    "import matplotlib.pyplot as plt\n",
    "import DaugmanIrisLocator as pcl\n",
    "import copy as cp\n",
    "import additionalFunctionOfPupilTracker as addfun"
   ]
  },
  {
   "cell_type": "code",
   "execution_count": null,
   "metadata": {
    "collapsed": false
   },
   "outputs": [],
   "source": [
    "userProfilePath = '/Users/ly/eyeProject/current_head/test/user_profile/liuyang/trackermodel.yaml'\n",
    "cameraProfilePath = '/Users/ly/eyeProject/current_head/test/camera_calibration/iSight/CM_iSight.yaml'\n",
    "leyefinalList = [];\n",
    "reyefinalList = [];\n",
    "allTrackedPointsList = [];\n",
    "radiusLeft=0\n",
    "radiusRight=0\n",
    "stableFrame=50\n",
    "startNewTempFrame=200\n",
    "leftEyeInfo=[]\n",
    "rightEyeInfo=[]\n",
    "radiusLeft"
   ]
  },
  {
   "cell_type": "code",
   "execution_count": null,
   "metadata": {
    "collapsed": true
   },
   "outputs": [],
   "source": [
    "pt = asmgazetracker.ASM_Gaze_Tracker()\n",
    "pt.initialize(userProfilePath,cameraProfilePath)\n",
    "pt.isImageRectificationUsingHomoTransformation = 0\n",
    "pt.poseEstimationUsingRansac = 0\n",
    "pt.poseEstimationRobustTracker = 0"
   ]
  },
  {
   "cell_type": "code",
   "execution_count": null,
   "metadata": {
    "collapsed": true
   },
   "outputs": [],
   "source": [
    "t = time.time()\n",
    "print '开始生成模板时间=%f\\n'%(t)\n",
    "pcl.generateTemplateSet()\n",
    "pcl.generateTemplateSet2()\n",
    "t = time.time()\n",
    "print '模板完成时间=%f\\n'%(t)"
   ]
  },
  {
   "cell_type": "code",
   "execution_count": null,
   "metadata": {
    "collapsed": false
   },
   "outputs": [],
   "source": [
    "cap = cv2.VideoCapture(0)\n",
    "frameCount = 0\n",
    "while(True):\n",
    "#while(frameCount<32):\n",
    "    t = time.time()\n",
    "    frameCount +=1\n",
    "    print '=' *80\n",
    "    print \"count=%d\\n\"%frameCount\n",
    "    ret, frame = cap.read()\n",
    "    \n",
    "    #1.找到眼睛，转化颜色通道\n",
    "    succecced = pt.featureTracking(frame)\n",
    "    if succecced:\n",
    "        pt.estimateFacePose()\n",
    "        pt.extractEyeRectifiedImages()\n",
    "        leftEyeRectified = cv2.cvtColor(pt.leftEyeImageRectified,cv2.COLOR_BGR2RGB)\n",
    "        rightEyeRectified = cv2.cvtColor(pt.rightEyeImageRectified,cv2.COLOR_BGR2RGB)\n",
    "        rectifiedImage = cv2.cvtColor(pt.rectifiedImage,cv2.COLOR_BGR2RGB)\n",
    "        \n",
    "        #2.每到stableFrame时根据前面的帧（眼球大小）来生成新的模板大小\n",
    "        if frameCount == stableFrame:\n",
    "            pcl.regulateIrisRange()\n",
    "            print 'regulated'\n",
    "            print pcl.irisRange\n",
    "        \n",
    "        #3.模板匹配过程，包括：模板选择，仿射变换，模板匹配，聚类得到下一帧模板参数等步骤；如果不成功，丢弃这一帧\n",
    "        succ,eyecenterInRect,IrisRadius,diff,DaugmanCenter,DaugmanRadius,EyeFiltered=pcl.control(leftEyeRectified,rightEyeRectified,frameCount,startNewTempFrame)       \n",
    "        #if succ==0:\n",
    "        #    frameCount -=1\n",
    "        #    continue\n",
    "        \n",
    "        #4.显示图像\n",
    "        frame,leyefinalList,reyefinalList,allTrackedPointsList=addfun.ConversionAndPlot(eyecenterInRect,IrisRadius,diff,DaugmanCenter,DaugmanRadius,EyeFiltered,leftEyeRectified,pt,leyefinalList,reyefinalList,allTrackedPointsList,frame)           \n",
    "    cv2.imshow('frame',frame)\n",
    "    \n",
    "    keyValue = cv2.waitKey(1) & 0xFF \n",
    "    if keyValue == ord('q'):\n",
    "        del(cap)\n",
    "        cv2.destroyAllWindows()\n",
    "        break\n",
    "    elif keyValue == ord('d'):\n",
    "        pt.reDetectFace()"
   ]
  },
  {
   "cell_type": "code",
   "execution_count": null,
   "metadata": {
    "collapsed": true
   },
   "outputs": [],
   "source": [
    "plt.ion()\n",
    "# %matplotlib inline\n",
    "leyefinalArray = np.concatenate(leyefinalList).squeeze()\n",
    "reyefinalArray = np.concatenate(reyefinalList).squeeze()\n",
    "allTrackedPointsArray = np.concatenate(allTrackedPointsList,2)\n",
    "plt.figure(0)\n",
    "for i in range(1):\n",
    "    plt.scatter(allTrackedPointsArray[i,0,:],allTrackedPointsArray[i,1,:],5,range(0,allTrackedPointsArray.shape[2]))\n",
    "# plt.figure(1)\n",
    "# plt.scatter(leyefinalArray[:,0],leyefinalArray[:,1],20,range(0,leyefinalArray.shape[0]))\n",
    "# plt.scatter(reyefinalArray[:,0],reyefinalArray[:,1],20,range(0,reyefinalArray.shape[0]))\n",
    "# plt.show()"
   ]
  },
  {
   "cell_type": "code",
   "execution_count": null,
   "metadata": {
    "collapsed": true
   },
   "outputs": [],
   "source": [
    "cIL = pt.stringIndexToIntIndex('canthusInnerLeft')\n",
    "cIR = pt.stringIndexToIntIndex('canthusInnerRight')\n",
    "cOL = pt.stringIndexToIntIndex('canthusOuterLeft')\n",
    "cOR = pt.stringIndexToIntIndex('canthusOuterRight')\n",
    "cILArray = allTrackedPointsArray[cIL,:,:]\n",
    "cIRArray = allTrackedPointsArray[cIR,:,:]\n",
    "cOLArray = allTrackedPointsArray[cOL,:,:]\n",
    "cORArray = allTrackedPointsArray[cOR,:,:]\n",
    "mid = (cILArray + cIRArray + cOLArray + cORArray)/4\n",
    "leyeWRT = leyefinalArray - mid.transpose()\n",
    "reyeWRT = reyefinalArray - mid.transpose()\n",
    "plt.figure('wrt')\n",
    "plt.scatter(leyeWRT[:,0],leyeWRT[:,1],20,range(0,leyeWRT.shape[0]))\n",
    "plt.figure('mid')\n",
    "plt.scatter(leyeWRT[:,0],leyeWRT[:,1],20,range(0,leyeWRT.shape[0]))\n",
    "plt.scatter(mid[:,0],mid[:,1],20,range(0,mid.shape[0]))\n",
    "plt.show('wrt')\n",
    "plt.show('mid')"
   ]
  },
  {
   "cell_type": "code",
   "execution_count": null,
   "metadata": {
    "collapsed": true
   },
   "outputs": [],
   "source": [
    "pcl.irisRange"
   ]
  },
  {
   "cell_type": "code",
   "execution_count": null,
   "metadata": {
    "collapsed": true
   },
   "outputs": [],
   "source": []
  }
 ],
 "metadata": {
  "kernelspec": {
   "display_name": "Python 2",
   "language": "python",
   "name": "python2"
  },
  "language_info": {
   "codemirror_mode": {
    "name": "ipython",
    "version": 2
   },
   "file_extension": ".py",
   "mimetype": "text/x-python",
   "name": "python",
   "nbconvert_exporter": "python",
   "pygments_lexer": "ipython2",
   "version": "2.7.10"
  }
 },
 "nbformat": 4,
 "nbformat_minor": 0
}
