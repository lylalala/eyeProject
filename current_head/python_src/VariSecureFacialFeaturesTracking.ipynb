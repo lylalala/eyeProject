{
 "cells": [
  {
   "cell_type": "code",
   "execution_count": 50,
   "metadata": {
    "collapsed": false
   },
   "outputs": [],
   "source": [
    "import sys\n",
    "reload(sys)\n",
    "sys.setdefaultencoding(\"utf-8\")\n",
    "sys.path.append('../lib/')\n",
    "import ImportNotebook\n",
    "%matplotlib inline\n",
    "\n",
    "import shelve\n",
    "import os.path\n",
    "import numpy as np\n",
    "import numpy.matrixlib\n",
    "import scipy.misc\n",
    "import cv2\n",
    "import asmgazetracker\n",
    "import matplotlib.pyplot as plt\n",
    "import DaugmanIrisLocator as pcl"
   ]
  },
  {
   "cell_type": "code",
   "execution_count": 51,
   "metadata": {
    "collapsed": true
   },
   "outputs": [],
   "source": [
    "userProfilePath = '/Users/Jiangzp/trackingdata/user_profile/jzp-68points/trackermodel.yaml'\n",
    "cameraProfilePath = '/Users/Jiangzp/trackingdata/camera_calibration/iSight/CM_iSight.yaml'\n",
    "pt = asmgazetracker.ASM_Gaze_Tracker()\n",
    "pt.initialize(userProfilePath,cameraProfilePath)\n",
    "pt.isImageRectificationUsingHomoTransformation = 1\n",
    "pt.poseEstimationUsingRansac = 0\n",
    "pt.poseEstimationRobustTracker = 0\n",
    "\n",
    "pt.addReferenceFeature('noseOutterLeft')\n",
    "pt.addReferenceFeature('noseOutterRight')\n",
    "# pt.addReferenceFeature('noseInnerLeft')\n",
    "# pt.addReferenceFeature('noseInnterRight')\n",
    "pt.addReferenceFeature('noseUnderMiddle')\n",
    "pt.addReferenceFeature('mouthUpperMiddle')\n",
    "# pt.addReferenceFeature('mouthUpperInnerLeft')\n",
    "# pt.addReferenceFeature('mouthUpperInnerRight')\n",
    "pt.addReferenceFeature('mouthUpperMiddleLeft')\n",
    "pt.addReferenceFeature('mouthUpperMiddleRight')\n",
    "pt.changeReferenceFeaturesSet()"
   ]
  },
  {
   "cell_type": "code",
   "execution_count": 52,
   "metadata": {
    "collapsed": true
   },
   "outputs": [],
   "source": [
    "# give the full video file path\n",
    "videoPath = '/Users/Jiangzp/trackingdata/video_parsing/jiangzp/150508_1421vision.mov'"
   ]
  },
  {
   "cell_type": "code",
   "execution_count": 53,
   "metadata": {
    "collapsed": false,
    "scrolled": false
   },
   "outputs": [],
   "source": [
    "# this value controls how big a image tile is. \n",
    "#The tile width = |leftOutterCanthus-rightOutterCanthus|/gridTileNumber\n",
    "gridTileNumber = 4\n",
    "folderPath,videoFileName = os.path.split(videoPath)\n",
    "videoFileRootName,_ = os.path.splitext(videoFileName)\n",
    "rectifiedImgsPath = os.path.join(folderPath,videoFileRootName)\n",
    "tileImgsPath = os.path.join(rectifiedImgsPath,str(gridTileNumber))\n",
    "# save all temp images right besides the video file.\n",
    "if not os.path.exists(rectifiedImgsPath):\n",
    "    os.makedirs(rectifiedImgsPath)\n",
    "if not os.path.exists(tileImgsPath):\n",
    "    os.makedirs(tileImgsPath)\n",
    "\n",
    "# check if a pre-calculated dlib parsed result exists.\n",
    "if os.path.exists(os.path.join(rectifiedImgsPath,'DlibPointsLog')):\n",
    "    loader2 = shelve.open(os.path.join(rectifiedImgsPath,'DlibPointsLog'))\n",
    "    DlibPointsLog = loader2['DlibPointsLog']\n",
    "    loader2.close()\n",
    "else:\n",
    "    DlibPointsLog = {}\n",
    "\n",
    "\n",
    "cap = cv2.VideoCapture(videoPath) \n",
    "frameCount = 0\n",
    "while(True):\n",
    "    frameCount +=1\n",
    "    if os.path.exists(os.path.join(rectifiedImgsPath,'r'+str(frameCount)+'.jpg')):\n",
    "        ret, frame = cap.read() # is this action so buggy....\n",
    "        rectifiedImage = cv2.imread( os.path.join(rectifiedImgsPath,'r'+str(frameCount)+'.jpg'))\n",
    "    else:\n",
    "        ret, frame = cap.read()\n",
    "        if ret == False:\n",
    "            break\n",
    "        frame = cv2.transpose(frame)\n",
    "        frame = cv2.flip(frame,1)\n",
    "        frame = frame[350:1080,70:-70,:]\n",
    "    \n",
    "    rectifiedDLibPoints = []\n",
    "    if frameCount in DlibPointsLog:\n",
    "        rectifiedDLibPoints = DlibPointsLog[frameCount]\n",
    "    else:\n",
    "        dlibsuccecced = pt.featureTrackingViaDlib(frame)\n",
    "        succecced = pt.featureTracking(frame)\n",
    "        if dlibsuccecced and succecced:\n",
    "            pt.extractEyeRectifiedImages()\n",
    "            rectifiedImage = pt.rectifiedImage\n",
    "#             cv2.imwrite(os.path.join(rectifiedImgsPath,'r'+str(frameCount)+'.jpg'),rectifiedImage)\n",
    "            rectifiedDLibPoints = pt.allRectifieddLibTrackedPoints2D\n",
    "            DlibPointsLog[frameCount] = rectifiedDLibPoints\n",
    "        \n",
    "        \n",
    "    if rectifiedDLibPoints:        \n",
    "        \n",
    "        rightOutCanthus = rectifiedDLibPoints[36]\n",
    "        leftOutCanthus = rectifiedDLibPoints[45]\n",
    "        bottomLine = rectifiedDLibPoints[48][1]\n",
    "        leftRightLength = np.linalg.norm(rightOutCanthus - leftOutCanthus)\n",
    "        topLine = int((rightOutCanthus[1]/2 + leftOutCanthus[1]/2).item() - leftRightLength/3*2)\n",
    "        gridSize = int(leftRightLength/gridTileNumber)\n",
    "        verticalGridNumber = int(np.round((bottomLine-topLine)/gridSize))\n",
    "        horizontalGridNumber = int(np.round((int(rightOutCanthus[0].item()) - int(leftOutCanthus[0].item()))/gridSize))+2\n",
    "        topStart = topLine\n",
    "        leftStart = int(leftOutCanthus[0].item())-gridSize\n",
    "        \n",
    "        tileCount = 0\n",
    "        for ht in range(horizontalGridNumber):\n",
    "            for vt in range(verticalGridNumber):\n",
    "                tileCount += 1\n",
    "                tile = rectifiedImage[topStart+vt*gridSize:topStart+(vt+1)*gridSize,leftStart+ht*gridSize:leftStart+(ht+1)*gridSize,:]\n",
    "                tileName = '%03d_%02d_%02d.jpg' % (frameCount,ht,vt)\n",
    "                cv2.imwrite(os.path.join(tileImgsPath,tileName),tile)\n",
    "                \n",
    "        for xpos in range(horizontalGridNumber+1):\n",
    "            cv2.line(rectifiedImage,(leftStart+xpos*gridSize,topLine),(leftStart+xpos*gridSize,topLine+(verticalGridNumber+1)*gridSize),(0,255,0),2)\n",
    "        for ypos in range(verticalGridNumber+2):\n",
    "            cv2.line(rectifiedImage,(leftStart,topStart+ypos*gridSize),(leftStart+(horizontalGridNumber)*gridSize,topStart+ypos*gridSize),(0,255,0),2)\n",
    "        gridImage = rectifiedImage[topStart:topStart+(verticalGridNumber)*gridSize,leftStart:leftStart+horizontalGridNumber*gridSize,:]\n",
    "        \n",
    "        for p in pt.allRectifieddLibTrackedPoints2D:\n",
    "            cv2.circle(rectifiedImage,tuple(p),3,(0,255,255),-1)\n",
    "        if pt.allRectifieddLibTrackedPoints2D:\n",
    "            for p in pt.allConnectionsBetweenDlibTrackedPoints2D:\n",
    "                cv2.line(rectifiedImage,tuple(pt.allRectifieddLibTrackedPoints2D[p[0].item()]),tuple(pt.allRectifieddLibTrackedPoints2D[p[1].item()]),(0,255,255))\n",
    "        for p in pt.alldLibTrackedPoints2D:\n",
    "            cv2.circle(frame,tuple(p),3,(0,255,255),-1)\n",
    "        if pt.alldLibTrackedPoints2D:\n",
    "            for p in pt.allConnectionsBetweenDlibTrackedPoints2D:\n",
    "                cv2.line(frame,tuple(pt.alldLibTrackedPoints2D[p[0].item()]),tuple(pt.alldLibTrackedPoints2D[p[1].item()]),(0,255,255))\n",
    "\n",
    "        cv2.imwrite(os.path.join(rectifiedImgsPath,'g'+str(frameCount)+'.jpg'),gridImage)\n",
    "        cv2.imwrite(os.path.join(rectifiedImgsPath,'r'+str(frameCount)+'.jpg'),rectifiedImage)\n",
    "        cv2.imshow('rectify',rectifiedImage)\n",
    "        \n",
    "    cv2.imwrite(os.path.join(rectifiedImgsPath,'u'+str(frameCount)+'.jpg'),frame)\n",
    "    cv2.imshow('frame',frame)\n",
    "    \n",
    "    keyValue = cv2.waitKey(1) & 0xFF \n",
    "    if keyValue == ord('q'):\n",
    "        del(cap)\n",
    "        cv2.destroyAllWindows()\n",
    "        break\n",
    "    elif keyValue == ord('d'):\n",
    "        pt.reDetectFace()\n",
    "        \n",
    "persistence = shelve.open(os.path.join(rectifiedImgsPath,'DlibPointsLog'))\n",
    "persistence['DlibPointsLog']=DlibPointsLog\n",
    "persistence.close()"
   ]
  },
  {
   "cell_type": "code",
   "execution_count": 54,
   "metadata": {
    "collapsed": false
   },
   "outputs": [
    {
     "data": {
      "text/plain": [
       "(294, 294, 3)"
      ]
     },
     "execution_count": 54,
     "metadata": {},
     "output_type": "execute_result"
    }
   ],
   "source": [
    "gridImage.shape"
   ]
  },
  {
   "cell_type": "code",
   "execution_count": null,
   "metadata": {
    "collapsed": true
   },
   "outputs": [],
   "source": []
  }
 ],
 "metadata": {
  "kernelspec": {
   "display_name": "Python 2",
   "language": "python",
   "name": "python2"
  },
  "language_info": {
   "codemirror_mode": {
    "name": "ipython",
    "version": 2
   },
   "file_extension": ".py",
   "mimetype": "text/x-python",
   "name": "python",
   "nbconvert_exporter": "python",
   "pygments_lexer": "ipython2",
   "version": "2.7.9"
  }
 },
 "nbformat": 4,
 "nbformat_minor": 0
}
