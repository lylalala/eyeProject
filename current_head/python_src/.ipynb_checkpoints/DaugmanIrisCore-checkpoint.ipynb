{
 "cells": [
  {
   "cell_type": "code",
   "execution_count": null,
   "metadata": {
    "collapsed": true
   },
   "outputs": [],
   "source": [
    "import scipy.signal\n",
    "import numpy as np"
   ]
  },
  {
   "cell_type": "code",
   "execution_count": null,
   "metadata": {
    "collapsed": true
   },
   "outputs": [],
   "source": [
    "def mat2gray(mat):\n",
    "    maxv  = mat.max()\n",
    "    minv  = mat.min()\n",
    "    gap = maxv - minv\n",
    "    return (mat-minv)/gap"
   ]
  },
  {
   "cell_type": "code",
   "execution_count": null,
   "metadata": {
    "collapsed": true
   },
   "outputs": [],
   "source": [
    "def DaugmanIrisCore(ringTemplates, imggrey):\n",
    "    candidateImage = imggrey\n",
    "    covstack = np.zeros(list(candidateImage.shape) + [len(ringTemplates)])\n",
    "\n",
    "#    results = [DaugmanIrisCore.pool.apply_async(scipy.signal.fftconvolve,(candidateImage,template,'same')) for template in ringTemplates]\n",
    "#    parallelResults = [r.get() for r in results]\n",
    "#    for i in range(len(parallelResults)):\n",
    "#        covstack[:,:,i] = parallelResults[i][0]\n",
    "    \n",
    "    for i in range(len(ringTemplates)):\n",
    "        #通过fft来做卷积,时间复杂度从2次方变成nlogn\n",
    "        covstack[:,:,i] = scipy.signal.fftconvolve(candidateImage,ringTemplates[i],'same')\n",
    "    covstackdiff = np.diff(covstack,1,2);\n",
    "    covstackdiff = np.concatenate((np.zeros(list(imggrey.shape) +[1]),covstackdiff),2)\n",
    "    covstackdiff = scipy.signal.lfilter(np.ones(5)/5,1,covstackdiff)\n",
    "    covstackdiffmax, covstackdiffmaxRadius = covstackdiff.max(-1),np.argmax(covstackdiff,-1)\n",
    "    covstackdiffmax = mat2gray(covstackdiffmax)\n",
    "    covstackdiffmaxRadius = np.float64(covstackdiffmaxRadius)\n",
    "    covstackdiffmaxRadius[(covstackdiffmaxRadius==0).nonzero()] = np.nan\n",
    "    return covstackdiffmax,covstackdiffmaxRadius,covstackdiff\n"
   ]
  },
  {
   "cell_type": "code",
   "execution_count": null,
   "metadata": {
    "collapsed": true
   },
   "outputs": [],
   "source": []
  }
 ],
 "metadata": {
  "kernelspec": {
   "display_name": "Python 2",
   "language": "python",
   "name": "python2"
  },
  "language_info": {
   "codemirror_mode": {
    "name": "ipython",
    "version": 2
   },
   "file_extension": ".py",
   "mimetype": "text/x-python",
   "name": "python",
   "nbconvert_exporter": "python",
   "pygments_lexer": "ipython2",
   "version": "2.7.10"
  }
 },
 "nbformat": 4,
 "nbformat_minor": 0
}
